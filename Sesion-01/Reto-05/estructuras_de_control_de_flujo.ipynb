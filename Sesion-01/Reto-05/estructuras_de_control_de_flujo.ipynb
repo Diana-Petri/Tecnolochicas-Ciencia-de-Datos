{
  "cells": [
    {
      "cell_type": "markdown",
      "metadata": {
        "id": "g7-UKBGh2yu9"
      },
      "source": [
        "## Reto 5: Estructuras de control de flujo\n",
        "\n",
        "### 1. Objetivos:\n",
        "    - Entender el funcionamiento de las estructuras de control de flujo a través de un reto\n",
        "\n",
        "---\n",
        "    \n",
        "### 2. Desarrollo:"
      ]
    },
    {
      "cell_type": "markdown",
      "metadata": {
        "id": "gu6pTPg62yvA"
      },
      "source": [
        "#### 1. Comparaciones numéricas\n",
        "\n",
        "Vamos a imaginar que estamos analizando un conjunto de datos que contiene las ventas anuales en pesos de unos vendedores que trabajan en nuestra empresa. Obtenemos el total de ventas anuales en pesos y lo tenemos asignado a la variable `ventas_anuales_totales`. Escribe una estructura de control que nos diga de cuánto va a ser el bono de nuestro empleado.\n",
        "\n",
        "Si las ventas son mayores a `$`1,000,000 el bono será de 20% del sueldo; si son entre `$`700,000 y `$`1,000,000 el bono será de 15% del sueldo; entre `$`400,000 y `$`700,000 el bono será de 10% del sueldo; entre `$`100,00 y 400,000 el bono será de 5% del sueldo; y debajo de `$`100,000 el bono será del 1% del sueldo.\n",
        "\n",
        "Escribe tu estructura de control y, por ahora (más adelante tendremos más herramientas para hacer esto más interesante) imprime una string que diga de cuánto va a ser el bono.\n",
        "\n",
        "> Reto opcional: Agrega una variable `sueldo` que sea el sueldo de tu empleado y agrégale el porcentaje de bono a esa variable dependiendo de la condición que se cumpla. Después hasta el final imprime una string interpolada que diga algo como \"Felicidades, tu sueldo es x; tu bono es de x; y el total de sueldo con el bono incluido es de x\". ¡Para que esto funcione también debes de agregar una variable donde guardes la cantidad del bono!"
      ]
    },
    {
      "cell_type": "code",
      "execution_count": 15,
      "metadata": {
        "id": "alt9X1A82yvC"
      },
      "outputs": [],
      "source": [
        "ventas_anuales_totales = 5    #Este valor lo puedes cambiar para obtener diferentes resultados\n",
        "\n",
        "# OPCIONAL\n",
        "# sueldo = escribe aquí el suelo de tu empleado\n"
      ]
    },
    {
      "cell_type": "code",
      "execution_count": 14,
      "metadata": {
        "id": "KzH6RGPn2yvD",
        "outputId": "7b716195-cbae-4b5b-fddf-7006214d007b",
        "colab": {
          "base_uri": "https://localhost:8080/"
        }
      },
      "outputs": [
        {
          "output_type": "stream",
          "name": "stdout",
          "text": [
            "Bono de 20%\n",
            "Felicidades, tu sueldo es 35000; tu bono es de 20%; y el total de sueldo con el bono incluido es de 42000.0\n",
            "Felicidades, tu sueldo es 35000; tu bono es de 20; y el total de sueldo con el bono incluido es de 42000.0\n",
            "Felicidades, tu sueldo es 35000; tu bono es de 20, y el total de sueldo con el bono incluido es de 42000.0\n"
          ]
        }
      ],
      "source": [
        "# Escribe aquí tu código\n",
        "# ...\n",
        "\n",
        "ventas_anuales_totales = 5\n",
        "\n",
        "if {ventas_anuales_totales >= 1000000}:  bono = 20\n",
        "elif {ventas_anuales_totales >= 700000}:  bono = 15\n",
        "elif {ventas_anuales_totales >= 400000}:  bono = 10\n",
        "elif {ventas_anuales_totales >= 100000}:  bono = 5\n",
        "else: bono = 1\n",
        "\n",
        "sueldo = 35000\n",
        "total_sueldo = sueldo + (sueldo * (bono/100))\n",
        "\n",
        "sueldo_bono = sueldo + (sueldo * (bono / 100))\n",
        "\n",
        "print(f'Bono de {bono}%')\n",
        "print(f'Felicidades, tu sueldo es {sueldo}; tu bono es de {bono}%; y el total de sueldo con el bono incluido es de {sueldo_bono}')\n",
        "\n",
        "print(f\"Felicidades, tu sueldo es {sueldo}; tu bono es de {bono}; y el total de sueldo con el bono incluido es de {total_sueldo}\")\n",
        "\n",
        "\n",
        "sueldo_mas_bono = sueldo + (sueldo * bono/100)\n",
        "print(f\"Felicidades, tu sueldo es {sueldo}; tu bono es de {bono}, y el total de sueldo con el bono incluido es de {sueldo_mas_bono}\")"
      ]
    },
    {
      "cell_type": "markdown",
      "metadata": {
        "id": "iqn7vzxe2yvF"
      },
      "source": [
        "<details><summary>Solución</summary>\n",
        "\n",
        "```python\n",
        "if ventas_anuales_totales >= 1000000:\n",
        "    bono = 0.2\n",
        "elif ventas_anuales_totales >= 700000:\n",
        "    bono = 0.15\n",
        "elif ventas_anuales_totales >= 400000:\n",
        "    bono = 0.1\n",
        "elif ventas_anuales_totales >= 100000:\n",
        "    bono = 0.05\n",
        "else:\n",
        "    bono = 0.01\n",
        "    \n",
        "sueldo_mas_bono = sueldo + sueldo * bono\n",
        "    \n",
        "print(f\"Felicidades, tu sueldo es {sueldo}; tu bono es de {bono}, y el total de sueldo con el bono incluido es de {sueldo_mas_bono}\")\n",
        "```\n",
        "    \n",
        "</details>"
      ]
    },
    {
      "cell_type": "code",
      "execution_count": null,
      "metadata": {
        "id": "AhN-s32C2yvG"
      },
      "outputs": [],
      "source": []
    }
  ],
  "metadata": {
    "kernelspec": {
      "display_name": "Python (data_science)",
      "language": "python",
      "name": "data_science"
    },
    "language_info": {
      "codemirror_mode": {
        "name": "ipython",
        "version": 3
      },
      "file_extension": ".py",
      "mimetype": "text/x-python",
      "name": "python",
      "nbconvert_exporter": "python",
      "pygments_lexer": "ipython3",
      "version": "3.8.5"
    },
    "colab": {
      "provenance": []
    }
  },
  "nbformat": 4,
  "nbformat_minor": 0
}